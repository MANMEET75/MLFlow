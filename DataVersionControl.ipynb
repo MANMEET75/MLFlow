{
 "cells": [
  {
   "cell_type": "markdown",
   "id": "3dd3e680",
   "metadata": {},
   "source": [
    "DVC is a tool for data science that takes advantage of existing software engineering toolset. It helps machine learning teams manage large datasets, make projects reproducible, and collaborate better\n",
    "\n",
    "- It will help us to manage the data and it also uses git kind of commands so if you have a good command over git then it will be very easy for you to perform data versioning \n",
    "- The best practice is to use all these tools while implementing end to end project because they will actually help you to develop the projects in a better way along with that we can perform much more tracking with respect to data\n",
    "\n",
    "- this one is very useful when we have huge amount of data like 100 GB of data and we can't store such a huge amount of data inside github repository\n",
    "\n",
    "- first of all use \"git init\"\n",
    "- install dvc using pip \n",
    "- then use \"dvc init\"\n",
    "- then create data folder having your data\n",
    "- then use \"git status\"\n",
    "- then for tracking the data files use \"dvc add data/data.txt\"\n",
    "- after the above code then U sign from the suffix of data.txt will gone which means it will be only tracked by dvc in further process not by git\n",
    "- after running the above commands we will get data.txt.dvc file in the data folder\n",
    "- in this file we have some information like hash key which is mapped to the data.txt and based on the hash key we have content of the data\n",
    "- \"git add data/data.txt.dvc\"\n",
    "- \"git add data/.gitignore\"\n",
    "- then suppose we did some of the changes inside our data file\n",
    "- then again we will use command \"dvc add data/data.txt\" then new hash key will get created \n",
    "- to see the data one specific commit  \"git checkout hashkey\" then \"dvc checkout\"\n",
    "\n",
    "- to get back to the most recent commit use \"git checkout master\"\n",
    "- So over here we will store the big data in the different locations in remote repositories like S3 bucket, google cloud etc"
   ]
  },
  {
   "cell_type": "code",
   "execution_count": null,
   "id": "7965bd24",
   "metadata": {},
   "outputs": [],
   "source": []
  },
  {
   "cell_type": "code",
   "execution_count": null,
   "id": "16cf5b61",
   "metadata": {},
   "outputs": [],
   "source": []
  },
  {
   "cell_type": "code",
   "execution_count": null,
   "id": "5c0461ee",
   "metadata": {},
   "outputs": [],
   "source": []
  },
  {
   "cell_type": "code",
   "execution_count": null,
   "id": "ffb51d84",
   "metadata": {},
   "outputs": [],
   "source": []
  },
  {
   "cell_type": "code",
   "execution_count": null,
   "id": "15bcb6bc",
   "metadata": {},
   "outputs": [],
   "source": []
  },
  {
   "cell_type": "code",
   "execution_count": null,
   "id": "032f85ac",
   "metadata": {},
   "outputs": [],
   "source": []
  },
  {
   "cell_type": "code",
   "execution_count": null,
   "id": "8f43e549",
   "metadata": {},
   "outputs": [],
   "source": []
  },
  {
   "cell_type": "code",
   "execution_count": null,
   "id": "3ae4c3f9",
   "metadata": {},
   "outputs": [],
   "source": []
  },
  {
   "cell_type": "code",
   "execution_count": null,
   "id": "7507af9d",
   "metadata": {},
   "outputs": [],
   "source": []
  },
  {
   "cell_type": "code",
   "execution_count": null,
   "id": "6f677af6",
   "metadata": {},
   "outputs": [],
   "source": []
  },
  {
   "cell_type": "code",
   "execution_count": null,
   "id": "e1a1c9ec",
   "metadata": {},
   "outputs": [],
   "source": []
  },
  {
   "cell_type": "code",
   "execution_count": null,
   "id": "0a15abd3",
   "metadata": {},
   "outputs": [],
   "source": []
  },
  {
   "cell_type": "code",
   "execution_count": null,
   "id": "9e97af0a",
   "metadata": {},
   "outputs": [],
   "source": []
  },
  {
   "cell_type": "code",
   "execution_count": null,
   "id": "293f7c9d",
   "metadata": {},
   "outputs": [],
   "source": []
  },
  {
   "cell_type": "code",
   "execution_count": null,
   "id": "fe2ff745",
   "metadata": {},
   "outputs": [],
   "source": []
  },
  {
   "cell_type": "code",
   "execution_count": null,
   "id": "8a9d21f9",
   "metadata": {},
   "outputs": [],
   "source": []
  }
 ],
 "metadata": {
  "kernelspec": {
   "display_name": "Python 3 (ipykernel)",
   "language": "python",
   "name": "python3"
  },
  "language_info": {
   "codemirror_mode": {
    "name": "ipython",
    "version": 3
   },
   "file_extension": ".py",
   "mimetype": "text/x-python",
   "name": "python",
   "nbconvert_exporter": "python",
   "pygments_lexer": "ipython3",
   "version": "3.11.2"
  }
 },
 "nbformat": 4,
 "nbformat_minor": 5
}
